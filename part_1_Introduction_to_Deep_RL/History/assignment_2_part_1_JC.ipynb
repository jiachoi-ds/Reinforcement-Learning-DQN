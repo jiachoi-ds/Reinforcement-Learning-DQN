{
 "cells": [
  {
   "cell_type": "markdown",
   "id": "9c0d943c",
   "metadata": {},
   "source": [
    "## <center>CSE 546: Reinforcement Learning</center>\n",
    "### <center>Prof. Alina Vereshchaka</center>\n",
    "<!-- ### <center>Fall 2022</center> -->\n",
    "\n",
    "Welcome to the Assignment 2, Part 1: Introduction to Deep Reinforcement Learning and Neural Networks! The goal of this assignment is to make you comfortable with the application of different Neural Network structures depending on how the Reinforcement Learning environment is set up."
   ]
  },
  {
   "cell_type": "code",
   "execution_count": 3,
   "id": "c0fc19e1",
   "metadata": {
    "ExecuteTime": {
     "end_time": "2024-09-24T11:30:19.772012Z",
     "start_time": "2024-09-24T11:30:13.828260Z"
    }
   },
   "outputs": [],
   "source": [
    "# Imports\n",
    "from environment import WumpusWorldEnvironment"
   ]
  },
  {
   "cell_type": "markdown",
   "id": "87890afd",
   "metadata": {},
   "source": [
    "# Environment"
   ]
  },
  {
   "cell_type": "markdown",
   "id": "b9dc8362",
   "metadata": {},
   "source": [
    "We will be working with an implementation of the Wumpus World environment. The environment comes from the book \"Artificial Intelligence: A Modern Approach\" by Stuart J. Russell and Peter Norvig. \n",
    "\n",
    "### ENVIRONMENT DETAILS:\n",
    "\n",
    "The environment is a 6 x 6 grid world containing a total of 36 grid blocks. \n",
    "\n",
    "#### ENVIRONMENT OBJECTS:\n",
    "The environment consists of the following objects:\n",
    "\n",
    "1. **Agent** - The agent starts in the grid block at the bottom left corner whose co-ordinates are [0, 0]. The goal of our agent is to collect the Gold while avoiding the Wumpus and the pits. \n",
    "\n",
    "2. **Wumpus** - The monster which would eat the agent if they are in the same grid block.\n",
    "\n",
    "3. **Pit** - The agent must avoid falling into the pits. \n",
    "\n",
    "4. **Gold** - The agent must collect the Gold.\n",
    "\n",
    "5. **Breeze** - Breeze surrounds the Pits and warn the agent of a Pit in an adjacent grid block.\n",
    "\n",
    "6. **Stench** - Stench surrounds the Wumpus and warns the agent of the Wumpus in an adjacent grid block.\n",
    "\n",
    "#### ENVIRONMENT OBSERVATIONS:\n",
    "\n",
    "Our implementation of the environment provides you with four different types of observations:\n",
    "\n",
    "1. **Integer** - Integer in the range [0 - 35]. This represents the grid block the agent is in. E.g., if the agent is in the bottom left grid block (starting position) the observation would be 0, if the agent is in the grid block containing the Gold the observation would be 34, if the agent is in the top right grid block the observation would be 35.\n",
    "\n",
    "2. **Vector** - \n",
    "\n",
    "    **2.1.** A vector of length 2 representing the agent co-ordinates. The first entry represents the x co-ordinate and the second entry represets the y co-ordinate. E.g., if the agent is in the bottom left grid block (starting position) the observation would be [0, 0], if the agent is in the grid block containing the Gold the observation would be [4, 5], if the agent is in the top right grid block the observation would be [5, 5].\n",
    "    \n",
    "    **2.2.** A vector of length 36 representing the one-hot encoding of the integer observation (refer type 1 above). E.g., if the agent is in the bottom left grid block (starting position) the observation would be [1, 0, ..., 0, 0], if the agent is in the grid block containing the Gold the observation would be [0, 0, ..., 1, 0], if the agent is in the top right grid block the observation would be [0, 0, ..., 0, 1].\n",
    "\n",
    "\n",
    "3. **Image** - Image render of the environment returned as an NumPy array. The image size is 84 * 84 (same size used in the DQN paper). E.g., if the agent is in the bottom right grid block the observation is:\n",
    "\n",
    "    Observation: (84 * 84)\n",
    "\n",
    "     [[255 255 255 ... 255 255 255]\n",
    "\n",
    "     [255 255 255 ... 255 255 255]\n",
    "\n",
    "     [255 255 255 ... 255 255 255]\n",
    "\n",
    "     ...\n",
    "\n",
    "     [255 255 255 ... 255 255 255]\n",
    "\n",
    "     [255 255 255 ... 255 255 255]\n",
    "\n",
    "     [255 255 255 ... 255 255 255]]\n",
    "\n",
    "    Observation type: <class 'numpy.ndarray'>\n",
    "\n",
    "    Observation Shape: (84, 84)\n",
    "\n",
    "    Visually, it looks like:\n",
    "    <img src=\"./images/environment_render.png\" width=\"500\" height=\"500\">\n",
    "    \n",
    "\n",
    "4. **Float** - Float in the range [0 - $\\infty$] representing the time elapsed in seconds. \n",
    "\n",
    "#### ENVIRONMENT ACTIONS:\n",
    "\n",
    "Our implementation of the environment provides you with three different types of actions:\n",
    "\n",
    "1. **Discrete** - Integer in the range [0 - 3] representing the four actions possible in the environment as follows: 0 - Right 1 - Left 2 - Up 3 - Down.\n",
    "\n",
    "2. **Multi-Discrete** - Array of length four where each element takes binary values 0 or 1. Array elements represent if we take a particular action. Array element with index 0 corresponds to the right action, index 1 corresponds to the left action, index 2 corresponds to the up action, and index 3 corresponds to the down action. E.g., \n",
    "   action = [1, 0, 0, 0] would result in the agent moving right.\n",
    "   action = [1, 0, 1, 0] would result in the agent moving right and up.\n",
    "   action = [0, 1, 0, 1] would result in the agent moving left and down.\n",
    "\n",
    "3. **Continuous** - Float in the range [-1, 1] determining whether the agent will go left, right, up, or down as follows:\n",
    "\n",
    "    if -1 <= action <= -0.5:\n",
    "        Go Right.\n",
    "    elif -0.5 < action <= 0:\n",
    "        Go Left.\n",
    "    elif 0 < action <= 0.5:\n",
    "        Go Up.\n",
    "    elif 0.5 < action <= 1:\n",
    "        Go Down.\n",
    "        \n",
    "### YOUR TASK IS TO USE A NEURAL NETWORK TO WORK WITH ALL FOUR TYPES OF OBSERVATIONS AND ALL THREE TYPES OF  ACTIONS.\n",
    "### Note: You don't have to train your agent/neural network. You just have to build the neural network structure that takes the observation as input and produces the desired output with the initial weights.\n",
    "\n",
    "#### You can use libraries such as PyTorch/TensorFlow/Keras to build your neural networks.\n",
    "\n",
    "#### <span style=\"color:red\">You cannot use RL libraries that already provide the neural network to you such as Stable-baselines3, Keras-RL, TF agents, Ray RLLib etc.</span>"
   ]
  },
  {
   "cell_type": "markdown",
   "id": "a6deebbb",
   "metadata": {},
   "source": [
    "<img src=\"./images/wumpus_world_environment.jpg\" width=\"600\" height=\"600\">"
   ]
  },
  {
   "cell_type": "markdown",
   "id": "f2f11e24",
   "metadata": {},
   "source": [
    "# START COMPLETING YOUR ASSIGNMENT HERE"
   ]
  },
  {
   "cell_type": "markdown",
   "id": "729a8768",
   "metadata": {},
   "source": [
    "## Observation Type - Integer, Action Type - Discrete\n",
    "\n",
    "The part of the assignment requires you to create a sequential dense neural network with 1 hidden layer having 64 neurons and the output layer having 4 neurons. The input to the neural network is an integer (refer to environment observations type 1). The output of the neural network is an array represeting the Q-values from which you will choose an action (refer to environment actions type 1)."
   ]
  },
  {
   "cell_type": "markdown",
   "id": "c596cb95",
   "metadata": {},
   "source": [
    "The following figure shows the network structure you will have to use:\n",
    "\n",
    "<img src=\"./images/neural_network_structures/neural_network_1_64_4.png\">"
   ]
  },
  {
   "cell_type": "code",
   "execution_count": 4,
   "id": "7b1f4da4",
   "metadata": {
    "ExecuteTime": {
     "end_time": "2024-09-24T11:30:19.791112Z",
     "start_time": "2024-09-24T11:30:19.782559Z"
    }
   },
   "outputs": [
    {
     "name": "stdout",
     "output_type": "stream",
     "text": [
      "obs = 0  -> normalized x = 0.000\n",
      "Q-values [Right, Left, Up, Down] = [ 0.19290227 -0.3828006  -0.2255198   0.1122991 ]\n",
      "Chosen action: 0 (Right)\n"
     ]
    }
   ],
   "source": [
    "\"\"\"TO DO: Create a neural network, pass it the observation from the environment\n",
    "and get the predicted Q-values for the four actions. Print the observation and the Q-values.\"\"\"\n",
    "\n",
    "import torch\n",
    "import torch.nn as nn\n",
    "import torch.nn.functional as F\n",
    "import numpy as np\n",
    "\n",
    "environment = WumpusWorldEnvironment(observation_type='integer', action_type='discrete')\n",
    "observation, info = environment.reset()\n",
    "\n",
    "# BEGIN_YOUR_CODE\n",
    "\n",
    "model = nn.Sequential(\n",
    "    nn.Linear(1, 64), # input=1, hidden=64\n",
    "    nn.ReLU(),\n",
    "    nn.Linear(64, 4) # hidden=64, output=4\n",
    ")\n",
    "\n",
    "# Normalization input  to [0, 1]\n",
    "# Convert the integer observation (range [0, 35]) into a normalized float tensor\n",
    "x = torch.tensor([[observation / 35.0]], dtype=torch.float32)\n",
    "\n",
    "# Disable gradient computation since we are not training the model here (just a forward pass for prediction)\n",
    "with torch.no_grad():\n",
    "    # Pass the normalized observation through the neural network model to get Q-values\n",
    "    q = model(x)                 # shape: [1, 4]\n",
    "    q_np = q.numpy().squeeze()   # shape: [4]\n",
    "\n",
    "# Pick the action of maximum Q value \n",
    "action = int(np.argmax(q_np))\n",
    "action_map = {0: \"Right\", 1: \"Left\", 2: \"Up\", 3: \"Down\"}\n",
    "\n",
    "print(f\"obs = {observation}  -> normalized x = {x.item():.3f}\")\n",
    "print(\"Q-values [Right, Left, Up, Down] =\", q_np)\n",
    "print(f\"Chosen action: {action} ({action_map[action]})\")\n",
    "\n",
    "# END_YOUR_CODE"
   ]
  },
  {
   "cell_type": "markdown",
   "id": "2bb8286a",
   "metadata": {},
   "source": []
  },
  {
   "cell_type": "markdown",
   "id": "b2b233bb",
   "metadata": {},
   "source": [
    "## Observation Type - Vector (2.1), Action Type - Discrete\n",
    "\n",
    "The part of the assignment requires you to create a sequential dense neural network with 1 hidden layer having 64 neurons and the output layer having 4 neurons. The input to the neural network is a vector of length 2 (refer to environment observations type 2.1). The output of the neural network is an array represeting the Q-values from which you will choose an action (refer to environment actions type 1)."
   ]
  },
  {
   "cell_type": "markdown",
   "id": "0e9c4873",
   "metadata": {},
   "source": [
    "The following figure shows the network structure you will have to use:\n",
    "\n",
    "<img src=\"./images/neural_network_structures/neural_network_2_64_4.png\">"
   ]
  },
  {
   "cell_type": "code",
   "execution_count": 13,
   "id": "10d985b5",
   "metadata": {
    "ExecuteTime": {
     "end_time": "2024-09-24T11:30:20.039771Z",
     "start_time": "2024-09-24T11:30:20.032436Z"
    }
   },
   "outputs": [
    {
     "name": "stdout",
     "output_type": "stream",
     "text": [
      "Obs: [0 0] | Norm: (0.00, 0.00)\n",
      "Q-values: [0.15126288 0.22445862 0.53398895 0.09014611]\n",
      "Best Action: 2 (Up)\n"
     ]
    }
   ],
   "source": [
    "\"\"\"TO DO: Create a neural network, pass it the observation from the environment\n",
    "and get the predicted Q-values for the four actions. Print the observation and the Q-values.\"\"\"\n",
    "\n",
    "environment = WumpusWorldEnvironment(observation_type='vector', action_type='discrete')\n",
    "observation, info = environment.reset()   # e.g., obs = [x, y] with x,y in {0..3}\n",
    "\n",
    "# BEGIN_YOUR_CODE\n",
    "\n",
    "# NN: in=2 → 64 → 4\n",
    "model = nn.Sequential(\n",
    "    nn.Linear(2, 64),\n",
    "    nn.ReLU(),\n",
    "    nn.Linear(64, 4)\n",
    ")\n",
    "\n",
    "# x,y normalize to [0,1] by dividing by 5; keep batch dim [1,2]\n",
    "x = torch.tensor([observation], dtype=torch.float32) / 5.0  # shape [1,2]\n",
    "\n",
    "# Forward pass (no gradient)\n",
    "with torch.no_grad():\n",
    "    q_values = model(x).numpy().squeeze()  # shape [4]\n",
    "\n",
    "# Choose best action\n",
    "action = int(np.argmax(q_values))\n",
    "actions = {0: \"Right\", 1: \"Left\", 2: \"Up\", 3: \"Down\"}\n",
    "\n",
    "# Print results\n",
    "vals = x.squeeze(0).tolist()             # -> [x_norm, y_norm]\n",
    "print(f\"Obs: {observation} | Norm: ({vals[0]:.2f}, {vals[1]:.2f})\")\n",
    "print(\"Q-values:\", q_values)\n",
    "print(f\"Best Action: {action} ({actions[action]})\")\n",
    "\n",
    "# END_YOUR_CODE"
   ]
  },
  {
   "cell_type": "markdown",
   "id": "a8957b9f",
   "metadata": {},
   "source": [
    "## Observation Type - Vector (2.2), Action Type - Discrete\n",
    "\n",
    "The part of the assignment requires you to create a sequential dense neural network with 1 hidden layer having 64 neurons and the output layer having 4 neurons. The input to the neural network is a vector of length 36 (refer to environment observations type 2.2). The output of the neural network is an array represeting the Q-values from which you will choose an action (refer to environment actions type 1).\n",
    "\n",
    "**HINT:** Use the integer observation and convert it to a one-hot encoded vector."
   ]
  },
  {
   "cell_type": "markdown",
   "id": "470cf5f8",
   "metadata": {},
   "source": [
    "The following figure shows the network structure you will have to use:\n",
    "\n",
    "<img src=\"./images/neural_network_structures/neural_network_36_64_4.png\">"
   ]
  },
  {
   "cell_type": "code",
   "execution_count": 15,
   "id": "ae05b09e",
   "metadata": {
    "ExecuteTime": {
     "end_time": "2024-09-24T11:30:20.058979Z",
     "start_time": "2024-09-24T11:30:20.051638Z"
    }
   },
   "outputs": [
    {
     "name": "stdout",
     "output_type": "stream",
     "text": [
      "Obs (int): 0\n",
      "One-hot shape: (1, 36) sum: 1\n",
      "Q-values: [ 0.16534321 -0.13215527  0.14415725 -0.12879342]\n",
      "Best Action: 0 (Right)\n"
     ]
    }
   ],
   "source": [
    "\"\"\"TO DO: Create a neural network, pass it the observation from the environment\n",
    "and get the predicted Q-values for the four actions. Print the observation and the Q-values.\"\"\"\n",
    "\n",
    "environment = WumpusWorldEnvironment(observation_type='integer', action_type='discrete')\n",
    "observation, info = environment.reset()\n",
    "\n",
    "# BEGIN_YOUR_CODE\n",
    "\n",
    "# int observation (0..35) -> one-hot [1,36]\n",
    "x = F.one_hot(torch.tensor([observation]), num_classes=36).to(torch.float32)  # no normalization needed\n",
    "\n",
    "# MLP: 36 -> 64 (ReLU) -> 4 (linear Q-values)\n",
    "model = nn.Sequential(\n",
    "    nn.Linear(36, 64),\n",
    "    nn.ReLU(),\n",
    "    nn.Linear(64, 4)\n",
    ")\n",
    "\n",
    "# Forward pass (inference only)\n",
    "with torch.no_grad():\n",
    "    q_values = model(x).numpy().squeeze()   # shape [4]\n",
    "\n",
    "# Pick best action and print\n",
    "actions = {0: \"Right\", 1: \"Left\", 2: \"Up\", 3: \"Down\"}\n",
    "best = int(np.argmax(q_values))\n",
    "\n",
    "print(\"Obs (int):\", observation)\n",
    "print(\"One-hot shape:\", tuple(x.shape), \"sum:\", int(x.sum().item()))  # sanity check (should be 1)\n",
    "print(\"Q-values:\", q_values)\n",
    "print(f\"Best Action: {best} ({actions[best]})\")\n",
    "\n",
    "\n",
    "# END_YOUR_CODE"
   ]
  },
  {
   "cell_type": "markdown",
   "id": "ce19c97b",
   "metadata": {},
   "source": [
    "## Observation Type - Image, Action Type - Discrete\n",
    "\n",
    "The part of the assignment requires you to create a convolutional neural network with one convolutional layer having 128 filters of size 3 x 3, one hidden layer having 64 neurons, and the output layer having 4 neurons. The input to the neural network is an image of size 84 * 84 (refer to environment observations type 3). The output of the neural network is an array represeting the Q-values from which you will choose an action (refer to environment actions type 1)."
   ]
  },
  {
   "cell_type": "markdown",
   "id": "df3d739c",
   "metadata": {},
   "source": [
    "The following figure shows the network structure you will have to use:\n",
    "\n",
    "<img src=\"./images/neural_network_structures/convolutional_neural_network_84x84_128_64_4.png\">"
   ]
  },
  {
   "cell_type": "code",
   "execution_count": 23,
   "id": "2044da09",
   "metadata": {
    "ExecuteTime": {
     "end_time": "2024-09-24T11:30:21.029222Z",
     "start_time": "2024-09-24T11:30:20.071698Z"
    }
   },
   "outputs": [
    {
     "name": "stdout",
     "output_type": "stream",
     "text": [
      "Observation shape: (84, 84)\n",
      "Observation:\n",
      " [[255 255 255 ... 255 255 255]\n",
      " [255 255 255 ... 255 255 255]\n",
      " [255 255 255 ... 255 255 255]\n",
      " ...\n",
      " [255 255 255 ... 255 255 255]\n",
      " [255 255 255 ... 255 255 255]\n",
      " [255 255 255 ... 255 255 255]]\n",
      "Image tensor shape: (1, 1, 84, 84)\n",
      "Q-values: [-0.14458598 -0.12303841  0.02125098 -0.2295996 ]\n",
      "Best Action: 2 (Up)\n"
     ]
    }
   ],
   "source": [
    "\"\"\"TO DO: Create a neural network, pass it the observation from the environment\n",
    "and get the predicted Q-values for the four actions. Print the observation and the Q-values.\"\"\"\n",
    "\n",
    "environment = WumpusWorldEnvironment(observation_type='image', action_type='discrete')\n",
    "observation, info = environment.reset()\n",
    "\n",
    "# BEGIN_YOUR_CODE\n",
    "\n",
    "# observation: np.array (84×84). Convert to tensor [Batch size, Channels, Height, Width] and normalize to [0,1].\n",
    "x = torch.tensor(observation, dtype=torch.float32) / 255.0   # Normalization / shape: [84,84], pixels: 0-255\n",
    "x = x.unsqueeze(0).unsqueeze(0)                               # -> [1,1,84,84] (batch, channel)\n",
    "\n",
    "# CNN: Conv(1->128, 3x3, padding=1 keeps 84x84) -> Flatten -> FC 64 -> FC 4 (linear Q-values)\n",
    "model = nn.Sequential(\n",
    "    nn.Conv2d(in_channels=1, out_channels=128, kernel_size=3, padding=1),\n",
    "    nn.ReLU(),\n",
    "    nn.Flatten(),                               # [1, 128*84*84]\n",
    "    nn.Linear(128*84*84, 64),\n",
    "    nn.ReLU(),\n",
    "    nn.Linear(64, 4)\n",
    ")\n",
    "\n",
    "# Forward pass (no gradients)\n",
    "with torch.no_grad():\n",
    "    q_values = model(x).numpy().squeeze()       # shape [4]\n",
    "\n",
    "# Choose best action and print\n",
    "actions = {0: \"Right\", 1: \"Left\", 2: \"Up\", 3: \"Down\"}\n",
    "best = int(np.argmax(q_values))\n",
    "\n",
    "print(\"Observation shape:\", observation.shape)\n",
    "print(\"Observation:\\n\", observation[:, :])   # observation 출력\n",
    "\n",
    "print(\"Image tensor shape:\", tuple(x.shape))    # (1,1,84,84)\n",
    "print(\"Q-values:\", q_values)\n",
    "print(f\"Best Action: {best} ({actions[best]})\")\n",
    "\n",
    "# import matplotlib.pyplot as plt\n",
    "# plt.imshow(observation, cmap='gray'); plt.axis('off'); plt.show()\n",
    "\n",
    "# END_YOUR_CODE"
   ]
  },
  {
   "cell_type": "markdown",
   "id": "64be04fd",
   "metadata": {},
   "source": [
    "## Observation Type - Float, Action Type - Discrete\n",
    "\n",
    "The part of the assignment requires you to create a sequential dense neural network with 1 hidden layer having 64 neurons and the output layer having 4 neurons. The input to the neural network is a float (refer to environment observations type 4). The output of the neural network is an array representing the Q-values from which you will choose an action (refer to environment actions type 1)."
   ]
  },
  {
   "cell_type": "markdown",
   "id": "b7ed49e0",
   "metadata": {},
   "source": [
    "The following figure shows the network structure you will have to use:\n",
    "\n",
    "<img src=\"./images/neural_network_structures/neural_network_1_64_4.png\">"
   ]
  },
  {
   "cell_type": "code",
   "execution_count": 26,
   "id": "ea0e4aa6",
   "metadata": {
    "ExecuteTime": {
     "end_time": "2024-09-24T11:30:21.054512Z",
     "start_time": "2024-09-24T11:30:21.045576Z"
    }
   },
   "outputs": [
    {
     "name": "stdout",
     "output_type": "stream",
     "text": [
      "Observation (float): 7.295608520507812e-05\n",
      "Input tensor shape: (1, 1)\n",
      "Q-values: [-0.24215408  0.03978841  0.11084732  0.40179184]\n",
      "Best Action: 3 (Down)\n"
     ]
    }
   ],
   "source": [
    "\"\"\"TO DO: Create a neural network, pass it the observation from the environment\n",
    "and get the predicted Q-values for the four actions. Print the observation and the Q-values.\"\"\"\n",
    "\n",
    "environment = WumpusWorldEnvironment(observation_type='float', action_type='discrete')\n",
    "observation, info = environment.reset()\n",
    "\n",
    "# BEGIN_YOUR_CODE\n",
    "\n",
    "# MLP: 1 → 64 → 4\n",
    "model = nn.Sequential(\n",
    "    nn.Linear(1, 64),\n",
    "    nn.ReLU(),\n",
    "    nn.Linear(64, 4)\n",
    ")\n",
    "\n",
    "# Make input tensor; keep batch dim [1,1]\n",
    "x = torch.tensor([[float(observation)]], dtype=torch.float32)\n",
    "# (Optional) normalize if you know the range, e.g., x = (x - mean) / std\n",
    "\n",
    "# Forward pass (no training)\n",
    "with torch.no_grad():\n",
    "    q_values = model(x).numpy().squeeze()   # shape [4]\n",
    "\n",
    "# Pick best action & print\n",
    "actions = {0: \"Right\", 1: \"Left\", 2: \"Up\", 3: \"Down\"}\n",
    "best = int(np.argmax(q_values))\n",
    "\n",
    "print(\"Observation (float):\", observation)\n",
    "print(\"Input tensor shape:\", tuple(x.shape))\n",
    "print(\"Q-values:\", q_values)\n",
    "print(f\"Best Action: {best} ({actions[best]})\")\n",
    "\n",
    "# END_YOUR_CODE"
   ]
  },
  {
   "cell_type": "markdown",
   "id": "27040465",
   "metadata": {},
   "source": [
    "## Observation Type - Vector (2.2), Action Type - Multi-Discrete\n",
    "\n",
    "The part of the assignment requires you to create a sequential dense neural network with 1 hidden layer having 64 neurons and the output layer having 4 neurons. The input to the neural network is a vector of length 36 (refer to environment observations type 2.2). The output of the neural network is an array representing the probability of choosing the actions. (If the value of the array element is >=0.5 you will perform the action.) (refer to environment actions type 2).\n",
    "\n",
    "**HINT:** Use the integer observation and convert it to a one-hot encoded vector."
   ]
  },
  {
   "cell_type": "markdown",
   "id": "8fe64de9",
   "metadata": {},
   "source": [
    "The following figure shows the network structure you will have to use:\n",
    "\n",
    "<img src=\"./images/neural_network_structures/neural_network_36_64_4_sigmoid.png\">"
   ]
  },
  {
   "cell_type": "code",
   "execution_count": 28,
   "id": "00ea3736",
   "metadata": {
    "ExecuteTime": {
     "end_time": "2024-09-24T11:30:21.075465Z",
     "start_time": "2024-09-24T11:30:21.067936Z"
    }
   },
   "outputs": [
    {
     "name": "stdout",
     "output_type": "stream",
     "text": [
      "Obs (int): 0\n",
      "One-hot sum: 1\n",
      "Action probabilities [R,L,U,D]: [0.49691388 0.5012522  0.49370664 0.48166177]\n",
      "Chosen multi-discrete action: [0 1 0 0] => ['Left']\n"
     ]
    }
   ],
   "source": [
    "\"\"\"TO DO: Create a neural network, pass it the observation from the environment\n",
    "and get the predicted action probabilities for the four actions. Print the observation and the action probabilities.\"\"\"\n",
    "\n",
    "environment = WumpusWorldEnvironment(observation_type='integer', action_type='multi_discrete')\n",
    "observation, info = environment.reset()\n",
    "\n",
    "# BEGIN_YOUR_CODE\n",
    "\n",
    "# int -> one-hot [1,36]\n",
    "x = F.one_hot(torch.tensor([observation]), num_classes=36).to(torch.float32)\n",
    "\n",
    "# MLP: 36 -> 64 (ReLU) -> 4 (Sigmoid -> probabilities)\n",
    "model = nn.Sequential(\n",
    "    nn.Linear(36, 64),\n",
    "    nn.ReLU(),\n",
    "    nn.Linear(64, 4),\n",
    "    nn.Sigmoid()                               # output in [0,1]\n",
    ")\n",
    "\n",
    "with torch.no_grad():\n",
    "    probs = model(x).numpy().squeeze()         # shape [4], probabilities per direction\n",
    "\n",
    "# Threshold 0.5 -> multi-discrete action vector\n",
    "action_vec = (probs >= 0.5).astype(int)        # e.g., [1,0,1,0]\n",
    "\n",
    "dirs = [\"Right\", \"Left\", \"Up\", \"Down\"]\n",
    "print(\"Obs (int):\", observation)\n",
    "print(\"One-hot sum:\", int(x.sum().item()))     # sanity check: should be 1\n",
    "print(\"Action probabilities [R,L,U,D]:\", probs)\n",
    "print(\"Chosen multi-discrete action:\", action_vec, \n",
    "      \"=>\", [d for d,flag in zip(dirs, action_vec) if flag==1])\n",
    "\n",
    "# END_YOUR_CODE"
   ]
  },
  {
   "cell_type": "markdown",
   "id": "082f05b0",
   "metadata": {},
   "source": [
    "## Observation Type - Vector (2.2), Action Type - Continuous\n",
    "\n",
    "The part of the assignment requires you to create a sequential dense neural network with 1 hidden layer having 64 neurons and the output layer having 1 neuron. The input to the neural network is a vector of length 36 (refer to environment observations type 2.2). The output of the neural network is an float in the range [-1, 1] determining the action which will be taken. (refer to environment actions type 3).\n",
    "\n",
    "**HINT:** Use the integer observation and convert it to a one-hot encoded vector and use the TanH activation function to get the output in the range [-1, 1]."
   ]
  },
  {
   "cell_type": "markdown",
   "id": "d8796988",
   "metadata": {},
   "source": [
    "The following figure shows the network structure you will have to use:\n",
    "\n",
    "<img src=\"./images/neural_network_structures/neural_network_36_64_1.png\">"
   ]
  },
  {
   "cell_type": "code",
   "execution_count": 5,
   "id": "b98555f1",
   "metadata": {
    "ExecuteTime": {
     "end_time": "2024-09-24T11:30:21.123624Z",
     "start_time": "2024-09-24T11:30:21.114457Z"
    }
   },
   "outputs": [
    {
     "name": "stdout",
     "output_type": "stream",
     "text": [
      "Obs (int): 0\n",
      "One-hot sum: 1\n",
      "Predicted continuous action: -0.0182 (range [-1, 1])\n"
     ]
    },
    {
     "name": "stderr",
     "output_type": "stream",
     "text": [
      "/opt/anaconda3/envs/env_torch/lib/python3.12/site-packages/gymnasium/spaces/box.py:130: UserWarning: \u001b[33mWARN: Box bound precision lowered by casting to float32\u001b[0m\n",
      "  gym.logger.warn(f\"Box bound precision lowered by casting to {self.dtype}\")\n"
     ]
    }
   ],
   "source": [
    "\"\"\"TO DO: Create a neural network, pass it the observation from the environment\n",
    "and get the predicted action. Print the observation and the predicted action.\"\"\"\n",
    "\n",
    "environment = WumpusWorldEnvironment(observation_type='integer', action_type='continuous')\n",
    "observation, info = environment.reset()\n",
    "\n",
    "# BEGIN_YOUR_CODE\n",
    "\n",
    "# Convert integer obs → one-hot vector [1,36]\n",
    "x = F.one_hot(torch.tensor([observation]), num_classes=36).to(torch.float32)\n",
    "\n",
    "# MLP: 36 → 64 → 1, with tanh output\n",
    "model = nn.Sequential(\n",
    "    nn.Linear(36, 64),\n",
    "    nn.ReLU(),\n",
    "    nn.Linear(64, 1),\n",
    "    nn.Tanh()                       # output in [-1, 1]\n",
    ")\n",
    "\n",
    "# Forward pass (no gradients)\n",
    "with torch.no_grad():\n",
    "    action = model(x).item()        # scalar output\n",
    "\n",
    "# Print observation & predicted action\n",
    "print(\"Obs (int):\", observation)\n",
    "print(\"One-hot sum:\", int(x.sum().item()))\n",
    "print(f\"Predicted continuous action: {action:.4f} (range [-1, 1])\")\n",
    "\n",
    "# END_YOUR_CODE"
   ]
  },
  {
   "cell_type": "code",
   "execution_count": 6,
   "id": "f9768ae1",
   "metadata": {},
   "outputs": [
    {
     "data": {
      "text/plain": [
       "tensor([[1., 0., 0., 0., 0., 0., 0., 0., 0., 0., 0., 0., 0., 0., 0., 0., 0., 0.,\n",
       "         0., 0., 0., 0., 0., 0., 0., 0., 0., 0., 0., 0., 0., 0., 0., 0., 0., 0.]])"
      ]
     },
     "execution_count": 6,
     "metadata": {},
     "output_type": "execute_result"
    }
   ],
   "source": [
    "x"
   ]
  },
  {
   "cell_type": "code",
   "execution_count": null,
   "id": "b38dfdf8",
   "metadata": {},
   "outputs": [],
   "source": []
  }
 ],
 "metadata": {
  "kernelspec": {
   "display_name": "env_torch",
   "language": "python",
   "name": "python3"
  },
  "language_info": {
   "codemirror_mode": {
    "name": "ipython",
    "version": 3
   },
   "file_extension": ".py",
   "mimetype": "text/x-python",
   "name": "python",
   "nbconvert_exporter": "python",
   "pygments_lexer": "ipython3",
   "version": "3.12.11"
  }
 },
 "nbformat": 4,
 "nbformat_minor": 5
}
